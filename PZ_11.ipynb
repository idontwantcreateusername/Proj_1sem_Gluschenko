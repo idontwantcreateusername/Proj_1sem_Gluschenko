{
  "cells": [
    {
      "cell_type": "markdown",
      "metadata": {
        "id": "view-in-github",
        "colab_type": "text"
      },
      "source": [
        "<a href=\"https://colab.research.google.com/github/idontwantcreateusername/Proj_1sem_Gluschenko/blob/master/PZ_11.ipynb\" target=\"_parent\"><img src=\"https://colab.research.google.com/assets/colab-badge.svg\" alt=\"Open In Colab\"/></a>"
      ]
    },
    {
      "cell_type": "markdown",
      "metadata": {
        "id": "5fCEDCU_qrC0"
      },
      "source": [
        "<p><img alt=\"Colaboratory logo\" height=\"45px\" src=\"/img/colab_favicon.ico\" align=\"left\" hspace=\"10px\" vspace=\"0px\"></p>\n",
        "\n",
        "<h1>Что такое Colaboratory?</h1>\n",
        "\n",
        "Colaboratory, или просто Colab, позволяет писать и выполнять код Python в браузере. При этом:\n",
        "- не требуется никакой настройки;\n",
        "- вы получаете бесплатный доступ к графическим процессорам;\n",
        "- предоставлять доступ к документам другим людям очень просто.\n",
        "\n",
        "Это отличное решение для <strong>студентов</strong>, <strong>специалистов по обработке данных</strong> и <strong>исследователей в области искусственного интеллекта</strong>. Чтобы узнать больше, посмотрите <a href=\"https://www.youtube.com/watch?v=inN8seMm7UI\">ознакомительное видео</a> или начните работу с инструментом ниже."
      ]
    },
    {
      "cell_type": "markdown",
      "source": [
        "## <strong>Пз _3 _1</strong>\n",
        " Даны два числа: А и В. Проверить истинность высказывания : «Справедливы\n",
        " неравенства А > 0 или B < -2»."
      ],
      "metadata": {
        "id": "pb8mGajZQpRE"
      }
    },
    {
      "cell_type": "code",
      "source": [
        "def intinput(output=''):  # функция ввода с проверкой на инт\n",
        "    print(output, end='')\n",
        "    input1 = True\n",
        "    v1 = 't'\n",
        "    while input1:  # проверка условия\n",
        "\n",
        "        try:\n",
        "            v1 = int(input())  # ввод\n",
        "        except ValueError:  # обработка исключения\n",
        "            print('введите корректное значение\\n')\n",
        "        if type(v1) == int:  # проверка на инт\n",
        "            input1 = False\n",
        "    return v1\n",
        "\n",
        "\n",
        "a = intinput('введите а \\n')  # ввод\n",
        "b = intinput('введите b \\n')\n",
        "if a > 0 or b < -2:  # проверка соответствию условия\n",
        "    print('высказывание справедливо')\n",
        "else:\n",
        "    print('высказывание не справедливо')\n"
      ],
      "metadata": {
        "id": "3sJBiQpOQ8X6"
      },
      "execution_count": null,
      "outputs": []
    },
    {
      "cell_type": "markdown",
      "source": [
        "## <strong>Пз _4 _1</strong>\n",
        "Дано вещественное число — цена 1 кг конфет. Вывести стоимость 1.2, 1.4, ..., 2\n",
        " кг конфет."
      ],
      "metadata": {
        "id": "8fWtaNWnRFZy"
      }
    },
    {
      "cell_type": "code",
      "source": [
        "def intinput(output=''):  # функция ввода с проверкой на инт\n",
        "    print(output, end='')\n",
        "    input1 = True\n",
        "    v1 = 't'\n",
        "    while input1:  # проверка условия\n",
        "\n",
        "        try:\n",
        "            v1 = int(input())  # ввод\n",
        "        except ValueError:  # обработка исключения\n",
        "            print('введите корректное значение\\n')\n",
        "        if type(v1) == int:  # проверка на инт\n",
        "            input1 = False\n",
        "    return v1\n",
        "\n",
        "\n",
        "q = intinput('введите цену конфет за 1 кг\\n')  # ввод\n",
        "# for i in range(12, 22, 2):\n",
        "#    print('цена за {}кг: {}'.format(i / 10, q * i / 10))  # цикл с выводом\n",
        "c = 12\n",
        "while c < 22:\n",
        "    print('цена за {}кг: {}'.format(c / 10, q * c / 10))\n",
        "    c += 2"
      ],
      "metadata": {
        "id": "R-3HoM6zRjaB"
      },
      "execution_count": null,
      "outputs": []
    },
    {
      "cell_type": "markdown",
      "metadata": {
        "id": "GJBs_flRovLc"
      },
      "source": [
        "## <strong>Пз _5 _1</strong>\n",
        "С помощью функций получить вертикальную и\n",
        "горизонтальную линии. Линия проводится многократной\n",
        "печатью символа. Заключить слово в рамку из\n",
        "полученных линий.\n"
      ]
    },
    {
      "cell_type": "code",
      "source": [
        "def horizontal(q, lw):  # функция проведения горизонтальной стороны рамки\n",
        "    if q:  # проверка на нижнюю или верхнюю\n",
        "        print('╔═' + '═' * lw + '═╗')\n",
        "    else:\n",
        "        print('╚═' + '═' * lw + '═╝')\n",
        "\n",
        "\n",
        "def vertical(lw):  # функия вывода вертикальных сторон\n",
        "    print('║ ' + ' ' * lw + ' ║')\n",
        "\n",
        "\n",
        "def worder(wrd):  # функция вывода слова в рамке\n",
        "    print('║ ' + wrd + ' ║')\n",
        "\n",
        "\n",
        "w = input('введите слово для вставки в рамку\\n')\n",
        "horizontal(True, len(w))\n",
        "vertical(len(w))\n",
        "\n",
        "worder(w)\n",
        "\n",
        "vertical(len(w))\n",
        "horizontal(False, len(w))  # вывод слова и рамки"
      ],
      "metadata": {
        "colab": {
          "base_uri": "https://localhost:8080/"
        },
        "id": "kzAkNF648439",
        "outputId": "0c896eb4-4302-4c46-8f91-2dc6d92a0de5"
      },
      "execution_count": null,
      "outputs": [
        {
          "output_type": "stream",
          "name": "stdout",
          "text": [
            "введите слово для вставки в рамку\n",
            "тестовое слово для вставки\n",
            "╔════════════════════════════╗\n",
            "║                            ║\n",
            "║ тестовое слово для вставки ║\n",
            "║                            ║\n",
            "╚════════════════════════════╝\n"
          ]
        }
      ]
    },
    {
      "cell_type": "code",
      "execution_count": null,
      "metadata": {
        "colab": {
          "base_uri": "https://localhost:8080/"
        },
        "id": "gJr_9dXGpJ05",
        "outputId": "d9ad721f-0906-4abe-97a7-22891b5ddade"
      },
      "outputs": [
        {
          "output_type": "execute_result",
          "data": {
            "text/plain": [
              "86400"
            ]
          },
          "metadata": {},
          "execution_count": 2
        }
      ],
      "source": [
        "seconds_in_a_day = 24 * 60 * 60\n",
        "seconds_in_a_day"
      ]
    },
    {
      "cell_type": "markdown",
      "metadata": {
        "id": "2fhs6GZ4qFMx"
      },
      "source": [
        "## <strong>Пз _6 _1</strong>\n",
        "Сформировать и вывести целочисленный список размера 10, содержащий 10 первых элементов последовательности чисел\n",
        "Фиббоначи"
      ]
    },
    {
      "cell_type": "code",
      "execution_count": null,
      "metadata": {
        "colab": {
          "base_uri": "https://localhost:8080/",
          "height": 34
        },
        "id": "-gE-Ez1qtyIA",
        "outputId": "94cb2224-0edf-457b-90b5-0ac3488d8a97"
      },
      "outputs": [
        {
          "data": {
            "text/plain": [
              "604800"
            ]
          },
          "execution_count": 0,
          "metadata": {
            "tags": []
          },
          "output_type": "execute_result"
        }
      ],
      "source": [
        "fib = []\n",
        "lastq = 0  # для прошлого числа\n",
        "q = 1  # текущее число\n",
        "for i in range(10):  # в теории сюда можно поставить int(input()) для получения списка любой длины\n",
        "    fib.append(q)  # добавляем  список\n",
        "    tr = q  # вычисляем новое текущее и новое прошлое\n",
        "    q += lastq\n",
        "    lastq = tr\n",
        "\n",
        "\n",
        "print(fib)"
      ]
    },
    {
      "cell_type": "markdown",
      "metadata": {
        "id": "UdRyKR44dcNI"
      },
      "source": [
        "##Пз _7 _1\n",
        "\n",
        "Дано целое число N(1 < N < 26). Вывести N последних строчных букв латинского алфавита в обратном порядке"
      ]
    },
    {
      "cell_type": "code",
      "execution_count": null,
      "metadata": {
        "colab": {
          "base_uri": "https://localhost:8080/"
        },
        "id": "C4HZx7Gndbrh",
        "outputId": "ac7e3a92-2c40-4a08-bcf8-b8c0363e68c4"
      },
      "outputs": [
        {
          "output_type": "stream",
          "name": "stdout",
          "text": [
            "введите N\n",
            "90\n",
            "введите корректное значение\n",
            "\n",
            "введите N\n",
            "2\n",
            "z\n",
            "y\n"
          ]
        }
      ],
      "source": [
        "# Дано целое число N(1 < N < 26). Вывести N последних строчных букв латинского алфавита в обратном порядке\n",
        "def intinput(output=''):  # функция ввода с проверкой на инт\n",
        "    print(output, end='')\n",
        "    input1 = True\n",
        "    v1 = 't'\n",
        "    while input1:  # проверка условия\n",
        "\n",
        "        try:\n",
        "            v1 = int(input())  # ввод\n",
        "        except ValueError:  # обработка исключения\n",
        "            a = 0  # загушка, требовавшаяся для модификации\n",
        "        if type(v1) == int and v1 > 0:  # проверка на инт + модификация для отбивания отрицательных\n",
        "            input1 = False\n",
        "        else:\n",
        "            print('введите корректное значение\\n')\n",
        "    return v1\n",
        "\n",
        "\n",
        "def notbiggerinput(txt, f, s=0):   # функция, принимающая число в определенном промежутке\n",
        "    while True:\n",
        "        w = intinput(txt)\n",
        "        if w >= f or w <= s:\n",
        "            print('введите корректное значение\\n')\n",
        "        else:\n",
        "            return w\n",
        "\n",
        "\n",
        "for i in range(notbiggerinput('введите N\\n', 26, 1)):\n",
        "    print(chr(122 - i))  # вывод n-ной с конца буквы алфавита"
      ]
    },
    {
      "cell_type": "markdown",
      "metadata": {
        "id": "4_kCnsPUqS6o"
      },
      "source": [
        "Вы можете импортировать в блокноты Colab данные из своего аккаунта Google Диска, в том числе из таблиц, а также из GitHub и многих других источников. Чтобы узнать больше об импорте данных и о том, как можно использовать Colab для их анализа и обработки, изучите ссылки в разделе <a href=\"#working-with-data\">Работа с данными</a>."
      ]
    },
    {
      "cell_type": "markdown",
      "metadata": {
        "id": "OwuxHmxllTwN"
      },
      "source": [
        "##Пз _8 _1\n",
        "\n",
        "Вариант 5. Дан словарь с произвольным количеством элементов. Выяснить\n",
        "имеется ли в нем элемент с ключом «фрукт = яблоко» и если он отсутствует, то\n",
        "добавить его в словарь. Вывести на экран первоначальный словарь и измененный."
      ]
    },
    {
      "cell_type": "code",
      "source": [
        "def intinput(output, k):  # функция ввода с проверкой на инт + введите true для игнорирования отрицательных\n",
        "    print(output, end='')\n",
        "    input1 = True\n",
        "    v1 = 't'\n",
        "    while input1:  # проверка условия\n",
        "\n",
        "        try:\n",
        "            v1 = int(input())  # ввод\n",
        "        except ValueError:  # обработка исключения\n",
        "            a = 0  # загушка, требовавшаяся для модификации\n",
        "        if type(v1) == int and (v1 > 0 or k):  # проверка на инт + модификация для отбивания отрицательных\n",
        "            input1 = False\n",
        "        else:\n",
        "            print('введите корректное значение\\n')\n",
        "    return v1\n",
        "\n",
        "\n",
        "dct = {}  # создание словаря\n",
        "for i in range(intinput('введите количество ключей словаря\\n', True)):  # ввод словаря\n",
        "    dct[input('введите его ключ: \\n')] = input('введите значение:\\n')\n",
        "\n",
        "if ('фрукт', 'яблоко') in dct.items():  # поиск яблок\n",
        "    print(\"неизменённый: \", dct)\n",
        "else:\n",
        "    print('исходный:', dct)\n",
        "    dct['фрукт'] = 'яблоко'  # добавление яблока\n",
        "    print('изменённый:', dct)"
      ],
      "metadata": {
        "id": "_YkY3RwgCwPs"
      },
      "execution_count": null,
      "outputs": []
    },
    {
      "cell_type": "markdown",
      "metadata": {
        "id": "-Rh3-Vt9Nev9"
      },
      "source": [
        "## Ресурсы по теме\n",
        "\n",
        "### Работа с блокнотами в Colab\n",
        "- [Общие сведения о Colaboratory](/notebooks/basic_features_overview.ipynb)\n",
        "- [Руководство для Markdown](/notebooks/markdown_guide.ipynb)\n",
        "- [Импорт библиотек и установка зависимостей](/notebooks/snippets/importing_libraries.ipynb)\n",
        "- [Сохранение и загрузка блокнотов в GitHub](https://colab.research.google.com/github/googlecolab/colabtools/blob/main/notebooks/colab-github-demo.ipynb)\n",
        "- [Интерактивные формы](/notebooks/forms.ipynb)\n",
        "- [Интерактивные виджеты](/notebooks/widgets.ipynb)\n",
        "- <img src=\"/img/new.png\" height=\"20px\" align=\"left\" hspace=\"4px\" alt=\"New\"></img>\n",
        " [TensorFlow 2 в Colab](/notebooks/tensorflow_version.ipynb)\n",
        "\n",
        "<a name=\"working-with-data\"></a>\n",
        "### Работа с данными\n",
        "- [Загрузка данных: Диск, Таблицы и Google Cloud Storage](/notebooks/io.ipynb) \n",
        "- [Диаграмма: визуализация данных](/notebooks/charts.ipynb)\n",
        "- [Начало работы с BigQuery](/notebooks/bigquery.ipynb)\n",
        "\n",
        "### Экспресс-курс по машинному обучению\n",
        "Вот несколько блокнотов из онлайн-курса по машинному обучению от Google. Ещё больше информации доступно на <a href=\"https://developers.google.com/machine-learning/crash-course/\">сайте курса</a>.\n",
        "- [Знакомство с Pandas DataFrame](https://colab.research.google.com/github/google/eng-edu/blob/main/ml/cc/exercises/pandas_dataframe_ultraquick_tutorial.ipynb)\n",
        "- [Линейная регрессия в tf.keras с использованием синтетических данных](https://colab.research.google.com/github/google/eng-edu/blob/main/ml/cc/exercises/linear_regression_with_synthetic_data.ipynb)\n",
        "\n",
        "\n",
        "<a name=\"using-accelerated-hardware\"></a>\n",
        "### Использование ускорителей\n",
        "- [TensorFlow с графическими процессорами](/notebooks/gpu.ipynb)\n",
        "- [TensorFlow с TPU](/notebooks/tpu.ipynb)"
      ]
    },
    {
      "cell_type": "markdown",
      "metadata": {
        "id": "P-H6Lw1vyNNd"
      },
      "source": [
        "<a name=\"machine-learning-examples\"></a>\n",
        "\n",
        "## Примеры использования в машинном обучении\n",
        "\n",
        "Подробные примеры интерактивного анализа, выполняемого с помощью машинного обучения и доступного благодаря платформе Colaboratory, можно найти в этих руководствах. В них используются модели с сайта <a href=\"https://tfhub.dev\">TensorFlow Hub</a>.\n",
        "\n",
        "Несколько примеров:\n",
        "\n",
        "- <a href=\"https://tensorflow.org/hub/tutorials/tf2_image_retraining\">Обучение классификатора изображений</a>. Используя предварительно обученный классификатор изображений, создайте модель Keras для распознавания цветов.\n",
        "- <a href=\"https://tensorflow.org/hub/tutorials/tf2_text_classification\">Классификация текста</a>. Разделите отзывы на сайте IMDb на <em>положительные</em> и <em>отрицательные</em>.\n",
        "- <a href=\"https://tensorflow.org/hub/tutorials/tf2_arbitrary_image_stylization\">Перенос стиля</a>. Используйте модель глубокого обучения, чтобы переносить стиль с одного изображения на другое.\n",
        "- <a href=\"https://tensorflow.org/hub/tutorials/retrieval_with_tf_hub_universal_encoder_qa\">Вопросно-ответный универсальный многоязычный кодировщик</a>. Используйте модель машинного обучения, чтобы отвечать на вопросы из набора данных SQuAD.\n",
        "- <a href=\"https://tensorflow.org/hub/tutorials/tweening_conv3d\">Интерполяция видео.</a> Спрогнозируйте, что произошло между первым и последним кадрами видео.\n"
      ]
    }
  ],
  "metadata": {
    "colab": {
      "collapsed_sections": [],
      "name": "Добро пожаловать в Colaboratory!",
      "provenance": [],
      "include_colab_link": true
    },
    "kernelspec": {
      "display_name": "Python 3",
      "name": "python3"
    }
  },
  "nbformat": 4,
  "nbformat_minor": 0
}